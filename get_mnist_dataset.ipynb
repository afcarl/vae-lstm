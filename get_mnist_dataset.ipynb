{
 "cells": [
  {
   "cell_type": "code",
   "execution_count": 4,
   "metadata": {
    "collapsed": false
   },
   "outputs": [
    {
     "name": "stdout",
     "output_type": "stream",
     "text": [
      "downloading train dataset of binarized MNIST\n",
      "downloading valid dataset of binarized MNIST\n"
     ]
    }
   ],
   "source": [
    "import os\n",
    "import tempfile\n",
    "import numpy as np\n",
    "import urllib\n",
    "\n",
    "URL_MAP = {\n",
    "    \"train\": \"http://www.cs.toronto.edu/~larocheh/public/datasets/binarized_mnist/binarized_mnist_train.amat\",\n",
    "    \"valid\": \"http://www.cs.toronto.edu/~larocheh/public/datasets/binarized_mnist/binarized_mnist_valid.amat\",\n",
    "    \"test\": \"http://www.cs.toronto.edu/~larocheh/public/datasets/binarized_mnist/binarized_mnist_test.amat\"\n",
    "}\n",
    "\n",
    "PATH_MAP = {\n",
    "    \"train\": os.path.join(tempfile.gettempdir(), \"binarized_mnist_train.npy\"),\n",
    "    \"valid\": os.path.join(tempfile.gettempdir(), \"binarized_mnist_valid.npy\"),\n",
    "    \"test\": os.path.join(tempfile.gettempdir(), \"binarized_mnist_test.npy\")\n",
    "}\n",
    "\n",
    "\n",
    "for name, url in URL_MAP.items():\n",
    "    local_path = PATH_MAP[name]\n",
    "    if not os.path.exists(local_path):\n",
    "        print(\"downloading {} dataset of binarized MNIST\".format(name))\n",
    "        np.save(local_path, np.loadtxt(urllib.urlretrieve(url)[0]))\n",
    "train_set = [(x,) for x in np.load(PATH_MAP['train'])]\n",
    "valid_set = [(x,) for x in np.load(PATH_MAP['valid'])]\n",
    "test_set = [(x,) for x in np.load(PATH_MAP['test'])]"
   ]
  },
  {
   "cell_type": "code",
   "execution_count": 10,
   "metadata": {
    "collapsed": false
   },
   "outputs": [],
   "source": [
    "import h5py"
   ]
  },
  {
   "cell_type": "code",
   "execution_count": 11,
   "metadata": {
    "collapsed": true
   },
   "outputs": [],
   "source": [
    "h5f = h5py.File('mnist.h5', 'w')"
   ]
  },
  {
   "cell_type": "code",
   "execution_count": null,
   "metadata": {
    "collapsed": true
   },
   "outputs": [],
   "source": [
    "h5f.create_dataset('train', data=train_set)\n",
    "h5f.create_dataset('validation', data=valid_set)\n",
    "h5f.create_dataset('test', data=test_set)\n"
   ]
  }
 ],
 "metadata": {
  "kernelspec": {
   "display_name": "Python 2",
   "language": "python",
   "name": "python2"
  },
  "language_info": {
   "codemirror_mode": {
    "name": "ipython",
    "version": 2
   },
   "file_extension": ".py",
   "mimetype": "text/x-python",
   "name": "python",
   "nbconvert_exporter": "python",
   "pygments_lexer": "ipython2",
   "version": "2.7.10"
  }
 },
 "nbformat": 4,
 "nbformat_minor": 0
}
